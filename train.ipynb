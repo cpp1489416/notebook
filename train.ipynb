{
 "cells": [
  {
   "cell_type": "code",
   "execution_count": 2,
   "metadata": {},
   "outputs": [],
   "source": [
    "from pyspark import SparkContext\n",
    "from pyspark import SparkConf\n",
    "from operator import add\n",
    "from pyspark import SparkContext,SQLContext\n",
    "from pyspark.sql import SQLContext\n",
    "from pyspark.mllib.recommendation import ALS"
   ]
  },
  {
   "cell_type": "code",
   "execution_count": 3,
   "metadata": {},
   "outputs": [],
   "source": [
    "conf = SparkConf().setAppName(\"book_recommendation-server\")\n",
    "sc = SparkContext(conf=conf)"
   ]
  },
  {
   "cell_type": "code",
   "execution_count": 11,
   "metadata": {},
   "outputs": [],
   "source": [
    "books_raw_RDD = sc.textFile('main/BX-CSV-Dump/BX-Books.csv')"
   ]
  },
  {
   "cell_type": "code",
   "execution_count": 16,
   "metadata": {},
   "outputs": [
    {
     "data": {
      "text/plain": [
       "['\"ISBN\";\"Book-Title\";\"Book-Author\";\"Year-Of-Publication\";\"Publisher\";\"Image-URL-S\";\"Image-URL-M\";\"Image-URL-L\"',\n",
       " '\"0195153448\";\"Classical Mythology\";\"Mark P. O. Morford\";\"2002\";\"Oxford University Press\";\"http://images.amazon.com/images/P/0195153448.01.THUMBZZZ.jpg\";\"http://images.amazon.com/images/P/0195153448.01.MZZZZZZZ.jpg\";\"http://images.amazon.com/images/P/0195153448.01.LZZZZZZZ.jpg\"',\n",
       " '\"0002005018\";\"Clara Callan\";\"Richard Bruce Wright\";\"2001\";\"HarperFlamingo Canada\";\"http://images.amazon.com/images/P/0002005018.01.THUMBZZZ.jpg\";\"http://images.amazon.com/images/P/0002005018.01.MZZZZZZZ.jpg\";\"http://images.amazon.com/images/P/0002005018.01.LZZZZZZZ.jpg\"']"
      ]
     },
     "execution_count": 16,
     "metadata": {},
     "output_type": "execute_result"
    }
   ],
   "source": [
    "books_raw_RDD.take(3)"
   ]
  },
  {
   "cell_type": "code",
   "execution_count": 17,
   "metadata": {},
   "outputs": [],
   "source": [
    "books_raw_data_header = books_raw_RDD.take(1)"
   ]
  },
  {
   "cell_type": "code",
   "execution_count": 28,
   "metadata": {},
   "outputs": [],
   "source": [
    "books_RDD = books_raw_RDD.filter(lambda line: line != books_raw_data_header)\\\n",
    "                            .map(lambda line: line.split(';'))\\\n",
    "                            .map(lambda tokens: (abs(hash(tokens[0][1:-1])) % (10 ** 8), tokens[1][1:-1], tokens[2][1:-1], tokens[3][1:-1], tokens[4][1:-1], tokens[5][1:-1]))\\\n",
    "                            .cache()"
   ]
  },
  {
   "cell_type": "code",
   "execution_count": 29,
   "metadata": {},
   "outputs": [
    {
     "data": {
      "text/plain": [
       "[(58397390,\n",
       "  'Book-Title',\n",
       "  'Book-Author',\n",
       "  'Year-Of-Publication',\n",
       "  'Publisher',\n",
       "  'Image-URL-S')]"
      ]
     },
     "execution_count": 29,
     "metadata": {},
     "output_type": "execute_result"
    }
   ],
   "source": [
    "books_RDD.take(1)"
   ]
  },
  {
   "cell_type": "code",
   "execution_count": 30,
   "metadata": {},
   "outputs": [],
   "source": [
    "books_titles_RDD = books_RDD.map(lambda x : (int(x[0]), x[1], x[2], x[3], x[4], x[5])).cache()"
   ]
  },
  {
   "cell_type": "code",
   "execution_count": 31,
   "metadata": {},
   "outputs": [
    {
     "data": {
      "text/plain": [
       "[(58397390,\n",
       "  'Book-Title',\n",
       "  'Book-Author',\n",
       "  'Year-Of-Publication',\n",
       "  'Publisher',\n",
       "  'Image-URL-S')]"
      ]
     },
     "execution_count": 31,
     "metadata": {},
     "output_type": "execute_result"
    }
   ],
   "source": [
    "books_titles_RDD.take(1)"
   ]
  },
  {
   "cell_type": "code",
   "execution_count": 32,
   "metadata": {},
   "outputs": [],
   "source": [
    "ratings_raw_RDD = sc.textFile('main/BX-CSV-Dump/BX-Book-Ratings.csv')"
   ]
  },
  {
   "cell_type": "code",
   "execution_count": 33,
   "metadata": {},
   "outputs": [],
   "source": [
    "ratings_raw_data_header = ratings_raw_RDD.take(1)[0]"
   ]
  },
  {
   "cell_type": "code",
   "execution_count": 34,
   "metadata": {},
   "outputs": [
    {
     "data": {
      "text/plain": [
       "'\"User-ID\";\"ISBN\";\"Book-Rating\"'"
      ]
     },
     "execution_count": 34,
     "metadata": {},
     "output_type": "execute_result"
    }
   ],
   "source": [
    "ratings_raw_data_header"
   ]
  },
  {
   "cell_type": "code",
   "execution_count": 35,
   "metadata": {},
   "outputs": [],
   "source": [
    "ratings_RDD = ratings_raw_RDD.filter(lambda line : line != ratings_raw_data_header) \\\n",
    "                                .map(lambda line : line.split(';'))\\\n",
    "                                .map(lambda tokens: (int(tokens[0][1:-1]), hash(tokens[1][1:-1]) % 10 ** 8, int(tokens[2][1:-1])))"
   ]
  },
  {
   "cell_type": "code",
   "execution_count": 36,
   "metadata": {},
   "outputs": [
    {
     "data": {
      "text/plain": [
       "[(276725, 68701106, 0),\n",
       " (276726, 46426205, 5),\n",
       " (276727, 90758053, 0),\n",
       " (276729, 44987036, 3),\n",
       " (276729, 78989836, 6),\n",
       " (276733, 30122732, 0),\n",
       " (276736, 64479825, 8),\n",
       " (276737, 43822043, 6),\n",
       " (276744, 83371955, 7),\n",
       " (276745, 78660650, 10)]"
      ]
     },
     "execution_count": 36,
     "metadata": {},
     "output_type": "execute_result"
    }
   ],
   "source": [
    "ratings_RDD.take(10)"
   ]
  },
  {
   "cell_type": "code",
   "execution_count": 37,
   "metadata": {},
   "outputs": [],
   "source": [
    "book_ID_with_ratings_RDD = ratings_RDD.map(lambda x: (x[1], x[2])).groupByKey()"
   ]
  },
  {
   "cell_type": "code",
   "execution_count": 39,
   "metadata": {},
   "outputs": [],
   "source": [
    "def get_counts_and_average(ID_and_ratings_tuple):\n",
    "    n = len(ID_and_ratings_tuple[1])\n",
    "    return ID_and_ratings_tuple[0], (n, float(sum(x for x in ID_and_ratings_tuple[1]))/ n)"
   ]
  },
  {
   "cell_type": "code",
   "execution_count": 40,
   "metadata": {},
   "outputs": [],
   "source": [
    "book_ID_with_avg_ratings_RDD = book_ID_with_ratings_RDD.map(get_counts_and_average)"
   ]
  },
  {
   "cell_type": "code",
   "execution_count": 41,
   "metadata": {},
   "outputs": [
    {
     "data": {
      "text/plain": [
       "[(68701106, (60, 2.933333333333333)),\n",
       " (44987036, (1, 3.0)),\n",
       " (78989836, (1, 6.0)),\n",
       " (30122732, (3, 3.6666666666666665)),\n",
       " (78660650, (2, 5.0)),\n",
       " (82154322, (134, 2.529850746268657)),\n",
       " (65782350, (137, 2.153284671532847)),\n",
       " (98900142, (7, 3.2857142857142856)),\n",
       " (80851704, (66, 3.6363636363636362)),\n",
       " (88265094, (22, 1.8181818181818181))]"
      ]
     },
     "execution_count": 41,
     "metadata": {},
     "output_type": "execute_result"
    }
   ],
   "source": [
    "book_ID_with_avg_ratings_RDD.take(10)"
   ]
  },
  {
   "cell_type": "code",
   "execution_count": 42,
   "metadata": {},
   "outputs": [],
   "source": [
    "book_ratings_count_RDD = book_ID_with_avg_ratings_RDD.map(lambda x : (x[0], x[1][0]))"
   ]
  },
  {
   "cell_type": "code",
   "execution_count": 43,
   "metadata": {},
   "outputs": [
    {
     "data": {
      "text/plain": [
       "[(68701106, 60), (44987036, 1)]"
      ]
     },
     "execution_count": 43,
     "metadata": {},
     "output_type": "execute_result"
    }
   ],
   "source": [
    "book_ratings_count_RDD.take(2)"
   ]
  },
  {
   "cell_type": "code",
   "execution_count": 44,
   "metadata": {},
   "outputs": [
    {
     "data": {
      "text/plain": [
       "[(276725, 68701106, 0), (276726, 46426205, 5)]"
      ]
     },
     "execution_count": 44,
     "metadata": {},
     "output_type": "execute_result"
    }
   ],
   "source": [
    "ratings_RDD.take(2)"
   ]
  },
  {
   "cell_type": "code",
   "execution_count": 45,
   "metadata": {},
   "outputs": [],
   "source": [
    "rank = 16\n",
    "seed = 5\n",
    "iterations = 10\n",
    "regularization_parameter = 0.1"
   ]
  },
  {
   "cell_type": "code",
   "execution_count": 46,
   "metadata": {},
   "outputs": [],
   "source": [
    "model = ALS.train(ratings_RDD, rank=rank, seed=seed, iterations=iterations, lambda_=regularization_parameter )"
   ]
  },
  {
   "cell_type": "code",
   "execution_count": 47,
   "metadata": {},
   "outputs": [],
   "source": [
    "user_unrated_books_RDD = ratings_RDD.filter(lambda x : x[0] != 276725).map(lambda x : (276725, x[1])).distinct()"
   ]
  },
  {
   "cell_type": "code",
   "execution_count": 48,
   "metadata": {},
   "outputs": [
    {
     "data": {
      "text/plain": [
       "[(276725, 46426205),\n",
       " (276725, 90758053),\n",
       " (276725, 64479825),\n",
       " (276725, 43822043),\n",
       " (276725, 83371955),\n",
       " (276725, 52414159),\n",
       " (276725, 82551089),\n",
       " (276725, 53423433),\n",
       " (276725, 64841065)]"
      ]
     },
     "execution_count": 48,
     "metadata": {},
     "output_type": "execute_result"
    }
   ],
   "source": [
    "user_unrated_books_RDD.take(9)"
   ]
  },
  {
   "cell_type": "code",
   "execution_count": 49,
   "metadata": {},
   "outputs": [],
   "source": [
    "predicted_RDD = model.predictAll(user_unrated_books_RDD)"
   ]
  },
  {
   "cell_type": "code",
   "execution_count": 50,
   "metadata": {},
   "outputs": [
    {
     "data": {
      "text/plain": [
       "2"
      ]
     },
     "execution_count": 50,
     "metadata": {},
     "output_type": "execute_result"
    }
   ],
   "source": [
    "len(predicted_RDD.take(2))"
   ]
  },
  {
   "cell_type": "code",
   "execution_count": 51,
   "metadata": {},
   "outputs": [],
   "source": [
    "predicted_rating_RDD = predicted_RDD.map(lambda x: (x.product, x.rating))"
   ]
  },
  {
   "cell_type": "code",
   "execution_count": 52,
   "metadata": {},
   "outputs": [
    {
     "data": {
      "text/plain": [
       "[(65259168, 0.0),\n",
       " (81442256, 0.0),\n",
       " (15026744, 0.0),\n",
       " (52640784, 0.0),\n",
       " (475832, 0.0)]"
      ]
     },
     "execution_count": 52,
     "metadata": {},
     "output_type": "execute_result"
    }
   ],
   "source": [
    "predicted_rating_RDD.takeOrdered(5, key=lambda x: -x[1])"
   ]
  },
  {
   "cell_type": "code",
   "execution_count": 53,
   "metadata": {},
   "outputs": [],
   "source": [
    "sqlContext=SQLContext(sc)"
   ]
  },
  {
   "cell_type": "code",
   "execution_count": 65,
   "metadata": {},
   "outputs": [],
   "source": [
    "ratings_df=sqlContext.read.format(\"jdbc\").option(\"url\",\"jdbc:mysql://localhost:3306/books_recommend\")\\\n",
    "  .option(\"dbtable\",\"main_rating\").option(\"user\",\"root\").option(\"password\",\"password\").load()"
   ]
  },
  {
   "cell_type": "code",
   "execution_count": 66,
   "metadata": {},
   "outputs": [
    {
     "name": "stdout",
     "output_type": "stream",
     "text": [
      "+---+-------+----------+------+\n",
      "| id|user_id|      isbn|rating|\n",
      "+---+-------+----------+------+\n",
      "|  1| 276725|034545104X|     0|\n",
      "|  2| 276726|0155061224|     5|\n",
      "|  3| 276727|0446520802|     0|\n",
      "|  4| 276729|052165615X|     3|\n",
      "|  5| 276729|0521795028|     6|\n",
      "|  6| 276733|2080674722|     0|\n",
      "|  7| 276736|3257224281|     8|\n",
      "|  8| 276737|0600570967|     6|\n",
      "|  9| 276744|038550120X|     7|\n",
      "| 10| 276745| 342310538|    10|\n",
      "| 11| 276746|0425115801|     0|\n",
      "| 12| 276746|0449006522|     0|\n",
      "| 13| 276746|0553561618|     0|\n",
      "| 14| 276746|055356451X|     0|\n",
      "| 15| 276746|0786013990|     0|\n",
      "| 16| 276746|0786014512|     0|\n",
      "| 17| 276747|0060517794|     9|\n",
      "| 18| 276747|0451192001|     0|\n",
      "| 19| 276747|0609801279|     0|\n",
      "| 20| 276747|0671537458|     9|\n",
      "+---+-------+----------+------+\n",
      "only showing top 20 rows\n",
      "\n"
     ]
    }
   ],
   "source": [
    "ratings_df.show()"
   ]
  },
  {
   "cell_type": "code",
   "execution_count": 67,
   "metadata": {},
   "outputs": [],
   "source": [
    "ratings_raw_rdd = ratings_df.rdd"
   ]
  },
  {
   "cell_type": "code",
   "execution_count": 81,
   "metadata": {},
   "outputs": [],
   "source": [
    "ratings_rdd  = ratings_raw_rdd.map(lambda x: (x.user_id, hash(x.isbn) % 10 ** 8, x.rating))"
   ]
  },
  {
   "cell_type": "code",
   "execution_count": 82,
   "metadata": {},
   "outputs": [
    {
     "data": {
      "text/plain": [
       "2299560"
      ]
     },
     "execution_count": 82,
     "metadata": {},
     "output_type": "execute_result"
    }
   ],
   "source": [
    "ratings_rdd.count()"
   ]
  },
  {
   "cell_type": "code",
   "execution_count": 97,
   "metadata": {},
   "outputs": [],
   "source": [
    "model = ALS.train(ratings_rdd, rank=rank, seed=seed, iterations=iterations, lambda_=regularization_parameter )"
   ]
  },
  {
   "cell_type": "code",
   "execution_count": 96,
   "metadata": {},
   "outputs": [
    {
     "data": {
      "text/plain": [
       "[Rating(user=300, product=89045893, rating=11.57677750938257),\n",
       " Rating(user=300, product=70170468, rating=10.574515524477663),\n",
       " Rating(user=300, product=56959835, rating=10.50381284428478),\n",
       " Rating(user=300, product=74798910, rating=10.45654691773706),\n",
       " Rating(user=300, product=92609290, rating=10.187099639969338),\n",
       " Rating(user=300, product=51433389, rating=10.187099639969338),\n",
       " Rating(user=300, product=90393308, rating=10.187099639969338),\n",
       " Rating(user=300, product=61144460, rating=10.187099639969338),\n",
       " Rating(user=300, product=47539547, rating=10.187099639969338),\n",
       " Rating(user=300, product=41840529, rating=10.187099639969338)]"
      ]
     },
     "execution_count": 96,
     "metadata": {},
     "output_type": "execute_result"
    }
   ],
   "source": [
    "model.recommendProducts(300,10)"
   ]
  },
  {
   "cell_type": "code",
   "execution_count": null,
   "metadata": {},
   "outputs": [],
   "source": []
  },
  {
   "cell_type": "code",
   "execution_count": null,
   "metadata": {},
   "outputs": [],
   "source": []
  },
  {
   "cell_type": "code",
   "execution_count": null,
   "metadata": {},
   "outputs": [],
   "source": []
  }
 ],
 "metadata": {
  "kernelspec": {
   "display_name": "Python 3",
   "language": "python",
   "name": "python3"
  },
  "language_info": {
   "codemirror_mode": {
    "name": "ipython",
    "version": 3
   },
   "file_extension": ".py",
   "mimetype": "text/x-python",
   "name": "python",
   "nbconvert_exporter": "python",
   "pygments_lexer": "ipython3",
   "version": "3.6.8"
  }
 },
 "nbformat": 4,
 "nbformat_minor": 2
}
